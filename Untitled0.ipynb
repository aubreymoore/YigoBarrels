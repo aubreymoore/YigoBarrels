{
 "metadata": {
  "name": "",
  "signature": "sha256:b56ad82f43830fa979b0976d081257609cf7b96c1bc8252688e6a80d2cc32127"
 },
 "nbformat": 3,
 "nbformat_minor": 0,
 "worksheets": [
  {
   "cells": [
    {
     "cell_type": "code",
     "collapsed": false,
     "input": [
      "f = open('barrels.gpx', 'r')\n",
      "t = f.read()\n",
      "#print t\n",
      "import re\n",
      "lat = re.findall('lat=\"\\d+[.]\\d+\"', t)\n",
      "print lat\n",
      "#re.findall('^([-+]?\\d{1,2}([.]\\d+)?),\\s*([-+]?\\d{1,3}([.]\\d+)?)$', t)\n"
     ],
     "language": "python",
     "metadata": {},
     "outputs": [
      {
       "output_type": "stream",
       "stream": "stdout",
       "text": [
        "['lat=\"13.533436\"', 'lat=\"13.533460\"', 'lat=\"13.533513\"', 'lat=\"13.532746\"', 'lat=\"13.532766\"', 'lat=\"13.532672\"', 'lat=\"13.532859\"', 'lat=\"13.532857\"', 'lat=\"13.531989\"', 'lat=\"13.532177\"', 'lat=\"13.531947\"', 'lat=\"13.532049\"', 'lat=\"13.531924\"', 'lat=\"13.531198\"', 'lat=\"13.531223\"', 'lat=\"13.531308\"', 'lat=\"13.531291\"', 'lat=\"13.530625\"', 'lat=\"13.530529\"', 'lat=\"13.530393\"', 'lat=\"13.530573\"', 'lat=\"13.530566\"', 'lat=\"13.529989\"', 'lat=\"13.529783\"', 'lat=\"13.529712\"', 'lat=\"13.529824\"', 'lat=\"13.528893\"', 'lat=\"13.528877\"', 'lat=\"13.528855\"', 'lat=\"13.528899\"', 'lat=\"13.528925\"']\n"
       ]
      }
     ],
     "prompt_number": 53
    },
    {
     "cell_type": "code",
     "collapsed": false,
     "input": [],
     "language": "python",
     "metadata": {},
     "outputs": [],
     "prompt_number": 16
    },
    {
     "cell_type": "code",
     "collapsed": false,
     "input": [],
     "language": "python",
     "metadata": {},
     "outputs": [],
     "prompt_number": 16
    },
    {
     "cell_type": "code",
     "collapsed": false,
     "input": [],
     "language": "python",
     "metadata": {},
     "outputs": []
    }
   ],
   "metadata": {}
  }
 ]
}